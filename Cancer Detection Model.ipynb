{
 "cells": [
  {
   "cell_type": "code",
   "execution_count": null,
   "id": "d090bc24",
   "metadata": {},
   "outputs": [],
   "source": [
    "# Install kaggle package for python\n",
    "!pip install kaggle"
   ]
  },
  {
   "cell_type": "code",
   "execution_count": null,
   "id": "1fb5d271",
   "metadata": {},
   "outputs": [],
   "source": [
    "import os\n",
    "\n",
    "os.environ['KAGGLE_CONFIG_DIR'] = 'C:/Users/kumar/Downloads'"
   ]
  },
  {
   "cell_type": "code",
   "execution_count": null,
   "id": "80d11e03",
   "metadata": {},
   "outputs": [],
   "source": [
    "# Download dataset to local machine using kaggle API\n",
    "!kaggle datasets download -d aarushi1712/breast-cancer-dataset"
   ]
  },
  {
   "cell_type": "code",
   "execution_count": null,
   "id": "5c1d30f4",
   "metadata": {},
   "outputs": [],
   "source": [
    "import pandas as pd\n",
    "# Load the dataset from the machine using raw string to avoid backslash acting as an escape character\n",
    "dataset_path = r'C:\\Users\\kumar\\breast-cancer-dataset\\data.csv' \n",
    "df = pd.read_csv(dataset_path)\n",
    "\n"
   ]
  },
  {
   "cell_type": "code",
   "execution_count": null,
   "id": "47199bc6",
   "metadata": {},
   "outputs": [],
   "source": [
    "import numpy as np\n",
    "import matplotlib.pyplot as plt \n",
    "import seaborn as sns\n",
    "%matplotlib inline"
   ]
  },
  {
   "cell_type": "code",
   "execution_count": null,
   "id": "88307e20",
   "metadata": {},
   "outputs": [],
   "source": [
    "# Display top 5 rows to check if dataset is read successfully\n",
    "df.head()"
   ]
  },
  {
   "cell_type": "code",
   "execution_count": null,
   "id": "85f30014",
   "metadata": {},
   "outputs": [],
   "source": [
    "# Count of no. of rows and columns of dataset\n",
    "df.shape"
   ]
  },
  {
   "cell_type": "code",
   "execution_count": null,
   "id": "ace7b626",
   "metadata": {},
   "outputs": [],
   "source": [
    "# Summary of dataframe\n",
    "df.info()"
   ]
  },
  {
   "cell_type": "code",
   "execution_count": null,
   "id": "cca3aa6d",
   "metadata": {},
   "outputs": [],
   "source": [
    "# Names of columns in dataset\n",
    "df.columns"
   ]
  },
  {
   "cell_type": "code",
   "execution_count": null,
   "id": "2619da83",
   "metadata": {},
   "outputs": [],
   "source": [
    "# Check for null values\n",
    "df.isnull().sum()"
   ]
  },
  {
   "cell_type": "code",
   "execution_count": null,
   "id": "b29cf969",
   "metadata": {},
   "outputs": [],
   "source": [
    "# Dropping column with null values\n",
    "df.drop(\"Unnamed: 32\", axis=1, inplace=True)"
   ]
  },
  {
   "cell_type": "code",
   "execution_count": null,
   "id": "3beb10ee",
   "metadata": {},
   "outputs": [],
   "source": [
    "# Dropping id column to make dataset more clean and useful\n",
    "df.drop('id',axis=1, inplace=True)"
   ]
  },
  {
   "cell_type": "code",
   "execution_count": null,
   "id": "285e5b4a",
   "metadata": {},
   "outputs": [],
   "source": [
    "# Summary of statistical measure to understand data\n",
    "df.describe()"
   ]
  },
  {
   "cell_type": "code",
   "execution_count": null,
   "id": "48c2c21b",
   "metadata": {},
   "outputs": [],
   "source": [
    "# Visualizing data using Seaborn Library to count no. of M and B cases\n",
    "plt.figure(figsize = (5,3))\n",
    "sns.countplot(x=\"diagnosis\", data=df, palette='magma')"
   ]
  },
  {
   "cell_type": "code",
   "execution_count": null,
   "id": "565864e3",
   "metadata": {},
   "outputs": [],
   "source": [
    "# Mean, standard error and worst(mean of 3 largest values) are used in dataset\n",
    "df.columns"
   ]
  },
  {
   "cell_type": "code",
   "execution_count": null,
   "id": "9b020c3a",
   "metadata": {},
   "outputs": [],
   "source": [
    "# Dividing columns with diagnosis\n",
    "# Mean\n",
    "m_col = ['diagnosis','radius_mean', 'texture_mean', 'perimeter_mean',\n",
    "       'area_mean', 'smoothness_mean', 'compactness_mean', 'concavity_mean',\n",
    "       'concave points_mean', 'symmetry_mean', 'fractal_dimension_mean']\n",
    "# SE\n",
    "s_col = ['diagnosis','radius_se', 'texture_se', 'perimeter_se', 'area_se', 'smoothness_se',\n",
    "       'compactness_se', 'concavity_se', 'concave points_se', 'symmetry_se',\n",
    "       'fractal_dimension_se']\n",
    "# Worst\n",
    "w_col = ['diagnosis','radius_worst', 'texture_worst',\n",
    "       'perimeter_worst', 'area_worst', 'smoothness_worst',\n",
    "       'compactness_worst', 'concavity_worst', 'concave points_worst',\n",
    "       'symmetry_worst', 'fractal_dimension_worst']"
   ]
  },
  {
   "cell_type": "code",
   "execution_count": null,
   "id": "000bf58b",
   "metadata": {
    "scrolled": true
   },
   "outputs": [],
   "source": [
    "# Visualizing pair wise relationship between each variable with other for mean columns\n",
    "# Color based on diagnosis column\n",
    "sns.pairplot(df[m_col],hue = 'diagnosis', palette='Blues')"
   ]
  },
  {
   "cell_type": "code",
   "execution_count": null,
   "id": "31765012",
   "metadata": {},
   "outputs": [],
   "source": [
    "# Visualizing pair wise relationship between each variable with other for SE columns\n",
    "sns.pairplot(df[s_col],hue = 'diagnosis', palette='Greens')"
   ]
  },
  {
   "cell_type": "code",
   "execution_count": null,
   "id": "97dffa14",
   "metadata": {},
   "outputs": [],
   "source": [
    "# Count of M and B rows in dataset\n",
    "df['diagnosis'].value_counts()"
   ]
  },
  {
   "cell_type": "code",
   "execution_count": null,
   "id": "e4652bee",
   "metadata": {},
   "outputs": [],
   "source": [
    "# Mapping categorical to numerical values\n",
    "df['diagnosis']=df['diagnosis'].map({'B':0,'M':1})"
   ]
  },
  {
   "cell_type": "code",
   "execution_count": null,
   "id": "d18fbeb7",
   "metadata": {},
   "outputs": [],
   "source": [
    "# Count of M and B rows in dataset with numerical values\n",
    "df['diagnosis'].value_counts()"
   ]
  },
  {
   "cell_type": "code",
   "execution_count": null,
   "id": "f21105c3",
   "metadata": {},
   "outputs": [],
   "source": [
    "# Visualize correlation matrix\n",
    "plt.figure(figsize=(18,16))\n",
    "sns.heatmap(df.corr(), annot=True,linewidths=.5, cmap=\"Purples\")"
   ]
  },
  {
   "cell_type": "code",
   "execution_count": null,
   "id": "1aefc075",
   "metadata": {},
   "outputs": [],
   "source": [
    "from sklearn.model_selection import train_test_split\n",
    "\n",
    "# splitting data into train and test\n",
    "X_train, X_test, y_train, y_test = train_test_split(\n",
    "                df.drop('diagnosis', axis=1),\n",
    "                df['diagnosis'],\n",
    "                test_size=0.2,\n",
    "                random_state=42)\n",
    "\n",
    "print(\"Shape of training set:\", X_train.shape)\n",
    "print(\"Shape of test set:\", X_test.shape)"
   ]
  },
  {
   "cell_type": "code",
   "execution_count": null,
   "id": "b2a85885",
   "metadata": {},
   "outputs": [],
   "source": [
    "from sklearn.preprocessing import StandardScaler\n",
    "\n",
    "ss = StandardScaler()\n",
    "X_train = ss.fit_transform(X_train)\n",
    "X_test = ss.fit_transform(X_test)"
   ]
  },
  {
   "cell_type": "code",
   "execution_count": null,
   "id": "c74f87a4",
   "metadata": {},
   "outputs": [],
   "source": [
    "# using logistic reasoning\n",
    "from sklearn.linear_model import LogisticRegression\n",
    "logreg = LogisticRegression()\n",
    "logreg.fit(X_train, y_train)\n",
    "predictions1 = logreg.predict(X_test)"
   ]
  },
  {
   "cell_type": "code",
   "execution_count": null,
   "id": "9f7fdc33",
   "metadata": {},
   "outputs": [],
   "source": [
    "from sklearn.metrics import confusion_matrix, classification_report\n",
    "\n",
    "print(\"Confusion Matrix: \\n\", confusion_matrix(y_test, predictions1))\n",
    "print('\\n')\n",
    "print(classification_report(y_test, predictions1))"
   ]
  },
  {
   "cell_type": "code",
   "execution_count": null,
   "id": "a4ef5193",
   "metadata": {},
   "outputs": [],
   "source": [
    "from sklearn.metrics import accuracy_score\n",
    "\n",
    "logreg_acc = accuracy_score(y_test, predictions1)\n",
    "print(\"Accuracy of the Logistic Regression Model is: \", logreg_acc)"
   ]
  },
  {
   "cell_type": "code",
   "execution_count": 29,
   "id": "4dbc799e",
   "metadata": {},
   "outputs": [],
   "source": [
    "# using K Nearest Neighbours\n",
    "from sklearn.neighbors import KNeighborsClassifier"
   ]
  },
  {
   "cell_type": "code",
   "execution_count": 30,
   "id": "277c51af",
   "metadata": {},
   "outputs": [],
   "source": [
    "# to find which value shows the lowest mean error\n",
    "error_rate = []\n",
    "\n",
    "for i in range(1,42):\n",
    "    knn = KNeighborsClassifier(n_neighbors=i)\n",
    "    knn.fit(X_train, y_train)\n",
    "    pred_i = knn.predict(X_test)\n",
    "    error_rate.append(np.mean(pred_i != y_test))\n"
   ]
  },
  {
   "cell_type": "code",
   "execution_count": 31,
   "id": "2e55148f",
   "metadata": {},
   "outputs": [
    {
     "data": {
      "image/png": "[encoded data removed]",
      "text/plain": [
       "<Figure size 1200x600 with 1 Axes>"
      ]
     },
     "metadata": {},
     "output_type": "display_data"
    }
   ],
   "source": [
    "plt.figure(figsize=(12,6))\n",
    "plt.plot(range(1,42), error_rate, color='purple', linestyle=\"--\",\n",
    "         marker='o', markersize=10, markerfacecolor='b')\n",
    "plt.title('Error_Rate vs K-value')\n",
    "plt.show()"
   ]
  },
  {
   "cell_type": "code",
   "execution_count": 32,
   "id": "74b7a5d6",
   "metadata": {},
   "outputs": [],
   "source": [
    "knn = KNeighborsClassifier(n_neighbors=9)\n",
    "knn.fit(X_train, y_train)\n",
    "predictions2 = knn.predict(X_test)"
   ]
  },
  {
   "cell_type": "code",
   "execution_count": 33,
   "id": "189937ef",
   "metadata": {},
   "outputs": [
    {
     "name": "stdout",
     "output_type": "stream",
     "text": [
      "[[69  2]\n",
      " [ 2 41]]\n",
      "\n",
      "\n",
      "              precision    recall  f1-score   support\n",
      "\n",
      "           0       0.97      0.97      0.97        71\n",
      "           1       0.95      0.95      0.95        43\n",
      "\n",
      "    accuracy                           0.96       114\n",
      "   macro avg       0.96      0.96      0.96       114\n",
      "weighted avg       0.96      0.96      0.96       114\n",
      "\n"
     ]
    }
   ],
   "source": [
    "print(confusion_matrix(y_test, predictions2))\n",
    "print(\"\\n\")\n",
    "print(classification_report(y_test, predictions2))"
   ]
  },
  {
   "cell_type": "code",
   "execution_count": 34,
   "id": "d8cb3c4d",
   "metadata": {},
   "outputs": [
    {
     "name": "stdout",
     "output_type": "stream",
     "text": [
      "Accuracy of K Neighbors Classifier Model is:  0.9649122807017544\n"
     ]
    }
   ],
   "source": [
    "knn_model_acc = accuracy_score(y_test, predictions2)\n",
    "print(\"Accuracy of K Neighbors Classifier Model is: \", knn_model_acc)"
   ]
  },
  {
   "cell_type": "code",
   "execution_count": 35,
   "id": "d74552f3",
   "metadata": {},
   "outputs": [],
   "source": [
    "# using Random Forests\n",
    "from sklearn.ensemble import RandomForestClassifier\n",
    "\n",
    "rfc = RandomForestClassifier(n_estimators=300)\n",
    "rfc.fit(X_train, y_train)\n",
    "predictions4 = rfc.predict(X_test)\n"
   ]
  },
  {
   "cell_type": "code",
   "execution_count": 36,
   "id": "e27bff1e",
   "metadata": {},
   "outputs": [
    {
     "name": "stdout",
     "output_type": "stream",
     "text": [
      "Confusion Matrix: \n",
      " [[70  1]\n",
      " [ 3 40]]\n",
      "\n",
      "\n",
      "              precision    recall  f1-score   support\n",
      "\n",
      "           0       0.96      0.99      0.97        71\n",
      "           1       0.98      0.93      0.95        43\n",
      "\n",
      "    accuracy                           0.96       114\n",
      "   macro avg       0.97      0.96      0.96       114\n",
      "weighted avg       0.97      0.96      0.96       114\n",
      "\n"
     ]
    }
   ],
   "source": [
    "print(\"Confusion Matrix: \\n\", confusion_matrix(y_test, predictions4))\n",
    "print(\"\\n\")\n",
    "print(classification_report(y_test, predictions4))"
   ]
  },
  {
   "cell_type": "code",
   "execution_count": 37,
   "id": "08364d56",
   "metadata": {},
   "outputs": [
    {
     "name": "stdout",
     "output_type": "stream",
     "text": [
      "Accuracy of Random Forests Model is:  0.9649122807017544\n"
     ]
    }
   ],
   "source": [
    "rfc_acc = accuracy_score(y_test, predictions4)\n",
    "print(\"Accuracy of Random Forests Model is: \", rfc_acc)"
   ]
  },
  {
   "cell_type": "code",
   "execution_count": 38,
   "id": "94d54462",
   "metadata": {},
   "outputs": [
    {
     "name": "stdout",
     "output_type": "stream",
     "text": [
      "0.9824561403508771\n",
      "0.9649122807017544\n",
      "0.9649122807017544\n"
     ]
    }
   ],
   "source": [
    "# comparing accuracies\n",
    "print(logreg_acc)\n",
    "print(knn_model_acc)\n",
    "print(rfc_acc)"
   ]
  },
  {
   "cell_type": "code",
   "execution_count": 39,
   "id": "ea153248",
   "metadata": {},
   "outputs": [
    {
     "data": {
      "text/plain": [
       "<Axes: >"
      ]
     },
     "execution_count": 39,
     "metadata": {},
     "output_type": "execute_result"
    },
    {
     "data": {
      "image/png": "[encoded data removed]",
      "text/plain": [
       "<Figure size 1200x600 with 1 Axes>"
      ]
     },
     "metadata": {},
     "output_type": "display_data"
    }
   ],
   "source": [
    "# visualizing accuracies\n",
    "plt.figure(figsize=(12,6))\n",
    "model_acc = [logreg_acc, knn_model_acc, rfc_acc]\n",
    "model_name = ['LogisticRegression', 'KNN', 'RandomForests']\n",
    "sns.barplot(x= model_acc, y=model_name, palette='magma')"
   ]
  },
  {
   "cell_type": "code",
   "execution_count": null,
   "id": "ae4ab1b7",
   "metadata": {},
   "outputs": [],
   "source": []
  }
 ],
 "metadata": {
  "kernelspec": {
   "display_name": "Python 3 (ipykernel)",
   "language": "python",
   "name": "python3"
  },
  "language_info": {
   "codemirror_mode": {
    "name": "ipython",
    "version": 3
   },
   "file_extension": ".py",
   "mimetype": "text/x-python",
   "name": "python",
   "nbconvert_exporter": "python",
   "pygments_lexer": "ipython3",
   "version": "3.11.5"
  }
 },
 "nbformat": 4,
 "nbformat_minor": 5
}
